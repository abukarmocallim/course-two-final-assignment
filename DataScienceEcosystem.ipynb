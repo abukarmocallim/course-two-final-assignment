{
 "cells": [
  {
   "cell_type": "markdown",
   "metadata": {},
   "source": [
    "<center>\n",
    "    <img src=\"https://cf-courses-data.s3.us.cloud-object-storage.appdomain.cloud/IBMDeveloperSkillsNetwork-DS0105EN-SkillsNetwork/labs/Module2/images/SN_web_lightmode.png\" width=\"300\" alt=\"cognitiveclass.ai logo\">\n",
    "</center>\n"
   ]
  },
  {
   "cell_type": "markdown",
   "metadata": {},
   "source": [
    "\n",
    "**Exercise 2: Create markdown cell with title of the notebook**\n",
    "\n",
    "Create markdown cell with title of the notebook title \n",
    "<span style=\"background-color: #f6f6f6; display: inline; padding: 5px; border: 1px solid #dddddd; border-radius: 5px; color: red;\"> \n",
    "    Data Science Tools and Ecosystem\n",
    "</span>\n",
    "using H1 style heading.\n",
    "\n",
    "***Take a screenshot of the markdown cell and name it as*** \n",
    "<span style=\"background-color: #f6f6f6; display: inline; padding: 5px; border: 1px solid #dddddd; border-radius: 5px; color: red;\"> \n",
    "    ***2-title.png***\n",
    "</span> ***(Images can be saved with either the .jpg or .png extension.)***"
   ]
  },
  {
   "cell_type": "code",
   "execution_count": null,
   "metadata": {},
   "outputs": [],
   "source": [
    "# Data Science Tools and Ecosystem"
   ]
  },
  {
   "cell_type": "markdown",
   "metadata": {},
   "source": [
    "# Data Science Tools and Ecosystem"
   ]
  },
  {
   "cell_type": "markdown",
   "metadata": {},
   "source": [
    "___"
   ]
  },
  {
   "cell_type": "markdown",
   "metadata": {},
   "source": [
    "\n",
    "**Exercise 3: Create a markdown cell for an introduction**\n",
    "\n",
    "Write an introductory sentence about the notebook such as the follows:\n",
    "\n",
    "<span style=\"background-color: #f6f6f6; display: inline; padding: 5px; border: 1px solid #dddddd; border-radius: 5px; color: red;\"> \n",
    "    In this notebook, Data Science Tools and Ecosystem are summarized.\n",
    "</span> <br><br>\n",
    "\n",
    "***Take a screenshot of the markdown cell and name it as***\n",
    "<span style=\"background-color: #f6f6f6; display: inline; padding: 5px; border: 1px solid #dddddd; border-radius: 5px; color: red; font-style: italic;\"> \n",
    "    ***3-intro.png***\n",
    "</span> \n",
    "***(Images can be saved with either the .jpg or .png extension.)***\n",
    "<br><br>"
   ]
  },
  {
   "cell_type": "code",
   "execution_count": null,
   "metadata": {},
   "outputs": [],
   "source": [
    "#### In this notebook, Data Science Tools and Ecosystem are summarized."
   ]
  },
  {
   "cell_type": "markdown",
   "metadata": {},
   "source": [
    "#### In this notebook, Data Science Tools and Ecosystem are summarized."
   ]
  },
  {
   "cell_type": "markdown",
   "metadata": {},
   "source": [
    "___"
   ]
  },
  {
   "cell_type": "markdown",
   "metadata": {},
   "source": [
    "\n",
    "**Exercise 4 - Create a markdown cell to list data science languages**\n",
    "\n",
    "Start the cell with an overview line such as:\n",
    "\n",
    "<span style=\"background-color: #f6f6f6; display: inline; padding: 5px; border: 1px solid #dddddd; border-radius: 5px; color: red;\"> \n",
    "    Some of the popular languages that Data Scientists use are:\n",
    "</span> <br><br>\n",
    "\n",
    "Then create an <span style=\"background-color: #f6f6f6; display: inline; padding: 5px; border: 1px solid #dddddd; border-radius: 5px; color: red;\"> \n",
    "    ordered list\n",
    "</span> (i.e. numbered) listing 3 (or more) commonly used languages for data science.\n",
    "\n",
    "***Take a screenshot of the markdown cell and name it as***\n",
    "<span style=\"background-color: #f6f6f6; display: inline; padding: 5px; border: 1px solid #dddddd; border-radius: 5px; color: red; font-style: italic;\"> \n",
    "    ***4-dslanguages.png***\n",
    "</span> \n",
    "***(Images can be saved with either the .jpg or .png extension.)***\n",
    "<br><br>"
   ]
  },
  {
   "cell_type": "code",
   "execution_count": null,
   "metadata": {},
   "outputs": [],
   "source": [
    "#### Some of the popular languages that Data Scientists use are:\n",
    "1. Python\n",
    "2. Julia\n",
    "3. R\n",
    "4. Java\n",
    "5. Scala"
   ]
  },
  {
   "cell_type": "markdown",
   "metadata": {},
   "source": [
    "#### Some of the popular languages that Data Scientists use are:\n",
    "1. Python\n",
    "2. Julia\n",
    "3. R\n",
    "4. Java\n",
    "5. Scala"
   ]
  },
  {
   "cell_type": "markdown",
   "metadata": {},
   "source": [
    "\n",
    "**Exercise 10 - Insert a markdown cell to list Objectives**\n",
    "\n",
    "Below the introduction cell created in Exercise 3, insert a new markdown cell to list the objectives that this notebook covered (i.e. some of the key takeaways from the course). In this new cell start with an introductory line titled:\n",
    "<span style=\"background-color: #f6f6f6; display: inline; padding: 5px; border: 1px solid #dddddd; border-radius: 5px; color: red;\"> \n",
    "    Objectives\n",
    "</span>in bold \n",
    "font. Then using an <span style=\"background-color: #f6f6f6; display: inline; padding: 5px; border: 1px solid #dddddd; border-radius: 5px; color: red;\"> \n",
    "    unordered list\n",
    "</span> (bullets) indicate 3 to 5 items covered in this notebook, such as\n",
    "<span style=\"background-color: #f6f6f6; display: inline; padding: 5px; border: 1px solid #dddddd; border-radius: 5px; color: red;\"> \n",
    "    List popular languages for Data Science\n",
    "</span>. <br>\n",
    "\n",
    "***Take a screenshot of the markdown cell and name it as***\n",
    "<span style=\"background-color: #f6f6f6; display: inline; padding: 5px; border: 1px solid #dddddd; border-radius: 5px; color: red; font-style: italic;\"> \n",
    "    ***10-objectives.png***\n",
    "</span> \n",
    "***(Images can be saved with either the .jpg or .png extension.)***\n",
    "<br><br>"
   ]
  },
  {
   "cell_type": "code",
   "execution_count": null,
   "metadata": {},
   "outputs": [],
   "source": [
    "## Objectives\n",
    "+ Creating a Jupyter Notebook\n",
    "+ Insert code and markdown cells\n",
    "+ Creating List (Ordered and Unordered list) in Jupyter Notebook\n",
    "+ Creating Headings in Jupyter Notebook\n",
    "+ Inserting table in Jupyter Notebook\n",
    "+ Using mathematical operation in Jupyter Notebook\n"
   ]
  },
  {
   "cell_type": "markdown",
   "metadata": {},
   "source": [
    "## Objectives\n",
    "+ Creating a Jupyter Notebook\n",
    "+ Insert code and markdown cells\n",
    "+ Creating List (Ordered and Unordered list) in Jupyter Notebook\n",
    "+ Creating Headings in Jupyter Notebook\n",
    "+ Inserting table in Jupyter Notebook\n",
    "+ Using mathematical operation in Jupyter Notebook"
   ]
  },
  {
   "cell_type": "markdown",
   "metadata": {},
   "source": [
    "___"
   ]
  },
  {
   "cell_type": "markdown",
   "metadata": {},
   "source": [
    "\n",
    "**Exercise 5 - Create a markdown cell to list data science libraries**\n",
    "\n",
    "Add an overview line to the cell like:\n",
    "\n",
    "<span style=\"background-color: #f6f6f6; display: inline; padding: 5px; border: 1px solid #dddddd; border-radius: 5px; color: red;\"> \n",
    "    Some of the commonly used libraries used by Data Scientists include:\n",
    "</span> <br><br>\n",
    "\n",
    "Below this line add an <span style=\"background-color: #f6f6f6; display: inline; padding: 5px; border: 1px solid #dddddd; border-radius: 5px; color: red;\"> \n",
    "    ordered list\n",
    "</span> listing 3 (or more) commonly used libraries in data science.\n",
    "\n",
    "***Take a screenshot of the markdown cell and name it as***\n",
    "<span style=\"background-color: #f6f6f6; display: inline; padding: 5px; border: 1px solid #dddddd; border-radius: 5px; color: red; font-style: italic;\"> \n",
    "    ***5-dslibraries.png***\n",
    "</span> \n",
    "***(Images can be saved with either the .jpg or .png extension.)***\n",
    "<br><br>"
   ]
  },
  {
   "cell_type": "code",
   "execution_count": null,
   "metadata": {},
   "outputs": [],
   "source": [
    "#### Some of the commonly used libraries used by Data Scientists include:\n",
    "1. Pandas\n",
    "2. NumPy\n",
    "3. Matplotlib \n",
    "4. SciKit-Learn\n",
    "5. TensorFlow \n",
    "6. PyTorch"
   ]
  },
  {
   "cell_type": "markdown",
   "metadata": {
    "tags": []
   },
   "source": [
    "#### Some of the commonly used libraries used by Data Scientists include:\n",
    "1. Pandas\n",
    "2. NumPy\n",
    "3. Matplotlib \n",
    "4. SciKit-Learn\n",
    "5. TensorFlow \n",
    "6. PyTorch"
   ]
  },
  {
   "cell_type": "markdown",
   "metadata": {},
   "source": [
    "___"
   ]
  },
  {
   "cell_type": "markdown",
   "metadata": {},
   "source": [
    "\n",
    "**Exercise 6 - Create a markdown cell with a table of Data Science tools**\n",
    "\n",
    "Create a single column table in this cell with the first row containing the header \n",
    "<span style=\"background-color: #f6f6f6; display: inline; padding: 5px; border: 1px solid #dddddd; border-radius: 5px; color: red;\"> \n",
    "    Data Science Tools\n",
    "</span>. The subsequent three rows in the table should indicate three development environment open source tools used in data science. <br>\n",
    "\n",
    "***Take a screenshot of the markdown cell and name it as***\n",
    "<span style=\"background-color: #f6f6f6; display: inline; padding: 5px; border: 1px solid #dddddd; border-radius: 5px; color: red; font-style: italic;\"> \n",
    "    ***6-dstools.png***\n",
    "</span> \n",
    "***(Images can be saved with either the .jpg or .png extension.)***\n",
    "<br><br>"
   ]
  },
  {
   "cell_type": "code",
   "execution_count": null,
   "metadata": {},
   "outputs": [],
   "source": [
    "| Data Science Tools |\n",
    "| -------------|\n",
    "| Jupyter Notebook |\n",
    "| RStudio |\n",
    "| Zeppelin Notebooks |"
   ]
  },
  {
   "cell_type": "markdown",
   "metadata": {},
   "source": [
    "| Data Science Tools |\n",
    "| -------------|\n",
    "| Jupyter Notebook |\n",
    "| RStudio |\n",
    "| Zeppelin Notebooks |\n"
   ]
  },
  {
   "cell_type": "markdown",
   "metadata": {},
   "source": [
    "___"
   ]
  },
  {
   "cell_type": "markdown",
   "metadata": {},
   "source": [
    "\n",
    "**Exercise 7 - Create a markdown cell introducing arithmetic expression examples**\n",
    "\n",
    "Add a line in this cell with H3 style heading with text like:\n",
    "\n",
    "<span style=\"background-color: #f6f6f6; display: inline; padding: 5px; border: 1px solid #dddddd; border-radius: 5px; color: red;\"> \n",
    "    Below are a few examples of evaluating arithmetic expressions in Python\n",
    "</span> <br> <br>\n",
    "\n",
    "***Take a screenshot of the markdown cell and name it as***\n",
    "<span style=\"background-color: #f6f6f6; display: inline; padding: 5px; border: 1px solid #dddddd; border-radius: 5px; color: red; font-style: italic;\"> \n",
    "    ***7-introarithmetic.png***\n",
    "</span> \n",
    "***(Images can be saved with either the .jpg or .png extension.)***\n",
    "<br><br>"
   ]
  },
  {
   "cell_type": "code",
   "execution_count": null,
   "metadata": {},
   "outputs": [],
   "source": [
    "### Below are a few examples of evaluating arithmetic expressions in Python\n",
    "\n",
    "##### Addition operation\n",
    "5+5\n",
    "\n",
    "##### Subtraction operation\n",
    "5-3\n",
    "\n",
    "##### Multiplication operation\n",
    "5 * 2\n",
    "\n",
    "##### Multiplication operation\n",
    "10 / 5"
   ]
  },
  {
   "cell_type": "markdown",
   "metadata": {},
   "source": [
    "### Below are a few examples of evaluating arithmetic expressions in Python\n",
    "\n",
    "##### Addition operation\n",
    "5+5\n",
    "\n",
    "##### Subtraction operation\n",
    "5-3\n",
    "\n",
    "##### Multiplication operation\n",
    "5 * 2\n",
    "\n",
    "##### Multiplication operation\n",
    "10 / 5"
   ]
  },
  {
   "cell_type": "markdown",
   "metadata": {},
   "source": [
    "___"
   ]
  },
  {
   "cell_type": "markdown",
   "metadata": {},
   "source": [
    "\n",
    "**Exercise 8 - Create a code cell to multiply and add numbers**\n",
    "\n",
    "In this code cell evaluate the expression\n",
    "<span style=\"background-color: #f6f6f6; display: inline; padding: 5px; border: 1px solid #dddddd; border-radius: 5px; color: red;\"> \n",
    "    (3*4)+5\n",
    "</span>. <br>\n",
    "\n",
    "*Insert a comment line before the expression to explain the operation e.g.*\n",
    "<span style=\"background-color: #f6f6f6; display: inline; padding: 5px; border: 1px solid #dddddd; border-radius: 5px; color: red;\"> \n",
    "    This a simple arithmetic expression to mutiply then add integers\n",
    "</span>. <br>\n",
    "\n",
    "Then execute the cell to ensure the expression returns the expected output of \n",
    "<span style=\"background-color: #f6f6f6; display: inline; padding: 5px; border: 1px solid #dddddd; border-radius: 5px; color: red;\"> \n",
    "    17\n",
    "</span>. <br>\n",
    "\n",
    "***Take a screenshot of the markdown cell and name it as***\n",
    "<span style=\"background-color: #f6f6f6; display: inline; padding: 5px; border: 1px solid #dddddd; border-radius: 5px; color: red; font-style: italic;\"> \n",
    "    ***8-multiplyandaddintegers.png***\n",
    "</span> \n",
    "***(Images can be saved with either the .jpg or .png extension.)***\n",
    "<br><br>"
   ]
  },
  {
   "cell_type": "code",
   "execution_count": 7,
   "metadata": {},
   "outputs": [
    {
     "data": {
      "text/plain": [
       "17"
      ]
     },
     "execution_count": 7,
     "metadata": {},
     "output_type": "execute_result"
    }
   ],
   "source": [
    "# This a simple arithmetic expression to mutiply then add integers\n",
    "(3*4)+5"
   ]
  },
  {
   "cell_type": "markdown",
   "metadata": {},
   "source": [
    "___"
   ]
  },
  {
   "cell_type": "markdown",
   "metadata": {},
   "source": [
    "\n",
    "**Exercise 9 - Create a code cell to convert minutes to hours**\n",
    "\n",
    "In this code cell write an expression that converts\n",
    "<span style=\"background-color: #f6f6f6; display: inline; padding: 5px; border: 1px solid #dddddd; border-radius: 5px; color: red;\"> \n",
    "    200 minutes\n",
    "</span>. \n",
    "into\n",
    "<span style=\"background-color: #f6f6f6; display: inline; padding: 5px; border: 1px solid #dddddd; border-radius: 5px; color: red;\"> \n",
    "    hours\n",
    "</span>. <br>\n",
    "\n",
    "*Insert a comment line before the expression to explain the operation e.g.*\n",
    "<span style=\"background-color: #f6f6f6; display: inline; padding: 5px; border: 1px solid #dddddd; border-radius: 5px; color: red;\"> \n",
    "    This will convert 200 minutes to hours by diving by 60\n",
    "</span> <br>\n",
    "Run the cell to evaluate the expression.\n",
    "\n",
    "***Take a screenshot of the markdown cell and name it as***\n",
    "<span style=\"background-color: #f6f6f6; display: inline; padding: 5px; border: 1px solid #dddddd; border-radius: 5px; color: red; font-style: italic;\"> \n",
    "    ***9-hourstominutes.png***\n",
    "</span> \n",
    "***(Images can be saved with either the .jpg or .png extension.)***\n",
    "<br><br>"
   ]
  },
  {
   "cell_type": "code",
   "execution_count": 36,
   "metadata": {},
   "outputs": [
    {
     "name": "stdout",
     "output_type": "stream",
     "text": [
      "3.33  hours\n"
     ]
    }
   ],
   "source": [
    "# This will convert 200 minutes to hours by diving by 60\n",
    "minutes_into_hours = 200 / 60\n",
    "hours = round(minutes_into_hours, 2)\n",
    "print(hours, ' hours')"
   ]
  },
  {
   "cell_type": "markdown",
   "metadata": {},
   "source": [
    "___"
   ]
  },
  {
   "cell_type": "markdown",
   "metadata": {},
   "source": [
    "\n",
    "**Exercise 11 - Create a markdown cell to indicate the Author's name**\n",
    "\n",
    "In this markdown cell markdown cell include the following text\n",
    "<span style=\"background-color: #f6f6f6; display: inline; padding: 5px; border: 1px solid #dddddd; border-radius: 5px; color: red;\"> \n",
    "    Author\n",
    "</span> in <span style=\"background-color: #f6f6f6; display: inline; padding: 5px; border: 1px solid #dddddd; border-radius: 5px; color: red;\"> \n",
    "    H2 style heading\n",
    "</span>. Include your \n",
    "<span style=\"background-color: #f6f6f6; display: inline; padding: 5px; border: 1px solid #dddddd; border-radius: 5px; color: red;\"> \n",
    "    name\n",
    "</span> as regular text below the word \n",
    "<span style=\"background-color: #f6f6f6; display: inline; padding: 5px; border: 1px solid #dddddd; border-radius: 5px; color: red;\"> \n",
    "    Author\n",
    "</span>\n",
    "\n",
    "***Take a screenshot of the markdown cell and name it as***\n",
    "<span style=\"background-color: #f6f6f6; display: inline; padding: 5px; border: 1px solid #dddddd; border-radius: 5px; color: red; font-style: italic;\"> \n",
    "    ***5-dslibraries.png***\n",
    "</span> \n",
    "***(Images can be saved with either the .jpg or .png extension.)***\n",
    "<br><br>"
   ]
  },
  {
   "cell_type": "code",
   "execution_count": null,
   "metadata": {},
   "outputs": [],
   "source": [
    "## Author\n",
    "Abukar Abdullahi Moallim"
   ]
  },
  {
   "cell_type": "markdown",
   "metadata": {},
   "source": [
    "## Author\n",
    "Abukar Abdullahi Moallim"
   ]
  },
  {
   "cell_type": "code",
   "execution_count": null,
   "metadata": {},
   "outputs": [],
   "source": []
  }
 ],
 "metadata": {
  "kernelspec": {
   "display_name": "Python",
   "language": "python",
   "name": "conda-env-python-py"
  },
  "language_info": {
   "codemirror_mode": {
    "name": "ipython",
    "version": 3
   },
   "file_extension": ".py",
   "mimetype": "text/x-python",
   "name": "python",
   "nbconvert_exporter": "python",
   "pygments_lexer": "ipython3",
   "version": "3.7.12"
  }
 },
 "nbformat": 4,
 "nbformat_minor": 4
}
